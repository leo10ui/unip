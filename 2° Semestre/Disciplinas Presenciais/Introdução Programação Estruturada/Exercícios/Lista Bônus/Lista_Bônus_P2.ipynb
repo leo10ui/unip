{
  "nbformat": 4,
  "nbformat_minor": 0,
  "metadata": {
    "colab": {
      "provenance": []
    },
    "kernelspec": {
      "name": "python3",
      "display_name": "Python 3"
    },
    "language_info": {
      "name": "python"
    }
  },
  "cells": [
    {
      "cell_type": "markdown",
      "source": [
        "**Nome:** Leonardo de Souza Rodrigues\n",
        "\n",
        "**RA:** F344HB-2"
      ],
      "metadata": {
        "id": "9hSVECtIMwGx"
      }
    },
    {
      "cell_type": "markdown",
      "source": [
        "<h1>Lista de Exercício Bônus - 1 Ponto na nota na P2"
      ],
      "metadata": {
        "id": "L0r0MKBRYFN0"
      }
    },
    {
      "cell_type": "markdown",
      "source": [
        "1) Desenvolver um programa para efetuar o cálculo da quantidade de combustível gastas em uma viagem,\n",
        "utilizando-se um automóvel que faz 12 Km por litro. Para obter o cálculo, o usuário deverá fornecer o tempo\n",
        "gasto na viagem e a velocidade média durante a mesma. Desta forma, será possível obter a distância\n",
        "percorrida com a fórmula: DISTANCIA = TEMPO * VELOCIDADE. Tendo o valor da distância, basta calcular a\n",
        "quantidade de litros de combustível utilizada na viagem com a fórmula: LITROS_USADOS = DISTANCIA/12. O\n",
        "programa deverá apresentar os valores da velocidade média, tempo gasto, a distância percorrida e a\n",
        "quantidade de litros utilizada na viagem. "
      ],
      "metadata": {
        "id": "uoGWKZg6SelL"
      }
    },
    {
      "cell_type": "code",
      "source": [
        "def cal_dist(t,v):\n",
        "  d = t * v\n",
        "  return d\n",
        "\n",
        "def cal_gas(d):\n",
        "  gas = d / 12\n",
        "  return gas\n",
        "\n",
        "t = int(input(\"Digite o tempo da viagem (em horas): \"))\n",
        "v = int(input(\"Digite a velocidade média (em KM/h): \"))\n",
        "d = cal_dist(t,v)\n",
        "gas = cal_gas(d)\n",
        "\n",
        "print(f\"Você viajou por {d} KM e gastou {gas} litros de combustível.\")\n",
        "print(f\"O tempo de viagem foi de {t} horas, a uma velocidade média de {v} KM/h.\")"
      ],
      "metadata": {
        "colab": {
          "base_uri": "https://localhost:8080/"
        },
        "id": "FPXWMWztSe02",
        "outputId": "7f74e7f0-5aac-4a87-f7d3-24ac056d12ef"
      },
      "execution_count": null,
      "outputs": [
        {
          "output_type": "stream",
          "name": "stdout",
          "text": [
            "Digite o tempo da viagem (em horas): 20\n",
            "Digite a velocidade média (em KM/h): 100\n",
            "Você viajou por 2000 KM e gastou 166.66666666666666 litros de combustível.\n",
            "O tempo de viagem foi de 20 horas, a uma velocidade média de 100 KM/h.\n"
          ]
        }
      ]
    },
    {
      "cell_type": "markdown",
      "source": [
        "\n",
        "\n",
        "---\n",
        "\n"
      ],
      "metadata": {
        "id": "U7k8RBM9Ya-X"
      }
    },
    {
      "cell_type": "markdown",
      "source": [
        "2-) Desenvolver um programa para encontrar o delta de uma equação do 2º grau. A fórmula geral de equações\n",
        "do 2º grau é a seguinte: Ax2 +Bx + C = 0 e a do Delta é: B2 -4AC. O usuário deverá digitar os coeficientes A, B\n",
        "e C respectivamente e lhe será apresentado o valor do delta. "
      ],
      "metadata": {
        "id": "JxhDpvKIM6SE"
      }
    },
    {
      "cell_type": "code",
      "source": [
        "def delta(a,b,c):\n",
        "  delta = (b ** 2) - (4 * a * c)\n",
        "  return delta\n",
        "\n",
        "print(\"Descubra o Delta da Equação\")\n",
        "a = int(input(\"Digite o valor de a: \"))\n",
        "b = int(input(\"Digite o valor de b: \"))\n",
        "c = int(input(\"Digite o valor de c: \"))\n",
        "\n",
        "delta = delta (a,b,c)\n",
        "\n",
        "print(f\"O valor de do Delta é: {delta}\")\n"
      ],
      "metadata": {
        "colab": {
          "base_uri": "https://localhost:8080/"
        },
        "id": "HLAZmlsnMznI",
        "outputId": "0b5cd9fe-2241-44de-b00f-c6047ccf66ea"
      },
      "execution_count": null,
      "outputs": [
        {
          "output_type": "stream",
          "name": "stdout",
          "text": [
            "Descubra o Delta da Equação\n",
            "Digite o valor de a: 1\n",
            "Digite o valor de b: 1\n",
            "Digite o valor de c: 1\n",
            "O valor de do Delta é: -3\n"
          ]
        }
      ]
    },
    {
      "cell_type": "markdown",
      "source": [
        "\n",
        "\n",
        "---\n",
        "\n"
      ],
      "metadata": {
        "id": "kRi1waE6Yc6y"
      }
    },
    {
      "cell_type": "markdown",
      "source": [
        "3) Desenvolver um programa para que um usuário, informando a distância entre dois pontos e o tempo gasto\n",
        "no percurso, tenha como resposta a velocidade obtida no trajeto. Lembre-se que V = S/T. Adotar as unidades:\n",
        "km para a distância e hora para o tempo. O diferencial desse exercício é que deverá ser retornado um aviso\n",
        "de multa caso a velocidade tenha ultrapassado o limite de 100 KM/H e uma outra mensagem de boa conduta,\n",
        "caso contrário. "
      ],
      "metadata": {
        "id": "e2JeL2o2PccO"
      }
    },
    {
      "cell_type": "code",
      "source": [
        "def vel(d,t):\n",
        "  v = d / t\n",
        "  return v\n",
        "\n",
        "def msg(v):\n",
        "  if v > 100:\n",
        "    return \"Você andou acima do limite de velocidade. Será multado pela sua conduta.\"\n",
        "  else: \n",
        "    return \"Parabéns, você é um ótimo motorista.\"\n",
        "\n",
        "d = float(input(\"Informe a distância em KM:\"))\n",
        "t = float(input(\"Digite o tempo gasto em horas: \"))\n",
        "\n",
        "v = vel (d,t)\n",
        "msg = msg(v)\n",
        "\n",
        "print(f\"Sua velocidade média foi de {v} KM/h. {msg}\")"
      ],
      "metadata": {
        "colab": {
          "base_uri": "https://localhost:8080/"
        },
        "id": "x9i5AS-uPg85",
        "outputId": "e7b8d585-f3a2-4368-8697-465318e1099c"
      },
      "execution_count": null,
      "outputs": [
        {
          "output_type": "stream",
          "name": "stdout",
          "text": [
            "Informe a distância em km:10\n",
            "Digite o tempo gasto em horas: 10\n",
            "Sua velocidade média foi de 1.0 KM/h. Parabéns, você é um ótimo motorista.\n"
          ]
        }
      ]
    },
    {
      "cell_type": "markdown",
      "source": [
        "\n",
        "\n",
        "---\n",
        "\n"
      ],
      "metadata": {
        "id": "a_AziVxuYeYA"
      }
    },
    {
      "cell_type": "markdown",
      "source": [
        "4) Faça um programa responsável por ler 10 valores informados pelo usuário. Ao final mostre quantos valores\n",
        "foram maiores ou iguais a cinco e quantos foram menores do que cinco. "
      ],
      "metadata": {
        "id": "xvBzizpORsjb"
      }
    },
    {
      "cell_type": "code",
      "source": [
        "\n",
        "valores = []\n",
        "menor = 0\n",
        "maior = 0\n",
        "for i in range(1,11):\n",
        "  valor = int(input(\"Digite um valor: \"))\n",
        "  if valor < 5:\n",
        "    menor = menor + 1\n",
        "  else:\n",
        "    maior = maior + 1\n",
        "  valores.append(valor)\n",
        "\n",
        "print(f\"\\nOs valores digitados foram: {valores}\")\n",
        "print(f\"{menor} valores foram menores que 5.\")\n",
        "print(f\"{maior} valores foram maiores que 5.\")"
      ],
      "metadata": {
        "id": "eHWMd-jCRx7D",
        "colab": {
          "base_uri": "https://localhost:8080/",
          "height": 0
        },
        "outputId": "332f3438-f3b9-4ad4-d406-ccbbe470e17c"
      },
      "execution_count": 6,
      "outputs": [
        {
          "output_type": "stream",
          "name": "stdout",
          "text": [
            "Digite um valor: 1\n",
            "Digite um valor: 2\n",
            "Digite um valor: 3\n",
            "Digite um valor: 4\n",
            "Digite um valor: 5\n",
            "Digite um valor: 6\n",
            "Digite um valor: 7\n",
            "Digite um valor: 8\n",
            "Digite um valor: 9\n",
            "Digite um valor: 10\n",
            "\n",
            "Os valores digitados foram: [1, 2, 3, 4, 5, 6, 7, 8, 9, 10]\n",
            "4 valores foram menores que 5.\n",
            "6 valores foram maiores que 5.\n"
          ]
        }
      ]
    },
    {
      "cell_type": "markdown",
      "source": [
        "\n",
        "\n",
        "---\n",
        "\n"
      ],
      "metadata": {
        "id": "tfG2Ax4mYfe0"
      }
    },
    {
      "cell_type": "markdown",
      "source": [
        "5) Desenvolva uma função que com base em duas listas iniciais de 4 posições cada, monte uma terceira lista,\n",
        "também com quatro posições, contendo a soma dos seus respectivos elementos. "
      ],
      "metadata": {
        "id": "De1w8cSHRyP5"
      }
    },
    {
      "cell_type": "code",
      "source": [
        "def soma(lista1,lista2):\n",
        "  lista3 = []\n",
        "  for i in range(0,4):\n",
        "    lista3.append(lista1[i] + lista2[i])\n",
        "  return lista3\n",
        "\n",
        "lista1 = [1,1,1,1]\n",
        "lista2 = [2,2,2,2]\n",
        "lista3 = soma(lista1,lista2)\n",
        "\n",
        "print(lista3)"
      ],
      "metadata": {
        "colab": {
          "base_uri": "https://localhost:8080/"
        },
        "id": "-TcVu1SbR1-_",
        "outputId": "bc99b625-7649-4ab9-9220-108646f17938"
      },
      "execution_count": null,
      "outputs": [
        {
          "output_type": "stream",
          "name": "stdout",
          "text": [
            "[3, 3, 3, 3]\n"
          ]
        }
      ]
    },
    {
      "cell_type": "markdown",
      "source": [
        "\n",
        "\n",
        "---\n",
        "\n"
      ],
      "metadata": {
        "id": "DfB2LGz8Yg9I"
      }
    },
    {
      "cell_type": "markdown",
      "source": [
        "6) Faça uma função chamada Calculadora() que receba dois números e um operador como parâmetros. Com\n",
        "base nos itens informados, realize o cálculo e retorne o resultado esperado."
      ],
      "metadata": {
        "id": "C0rvWKj9R2VP"
      }
    },
    {
      "cell_type": "code",
      "source": [
        "def Calculadora(n1,n2,op):\n",
        "  if op == \"+\":\n",
        "    resultado = n1 + n2\n",
        "  elif op == \"-\":\n",
        "    resultado = n1 - n2\n",
        "  elif op == \"*\":\n",
        "    resultado = n1 * n2\n",
        "  elif op == \"/\":\n",
        "    resultado = n1 /n2\n",
        "  else:\n",
        "    resultado = \"Digite um operador válido\"\n",
        "  return resultado\n",
        "\n",
        "print(Calculadora(10,2,\"/\"))"
      ],
      "metadata": {
        "colab": {
          "base_uri": "https://localhost:8080/"
        },
        "id": "xiWeikblR9hm",
        "outputId": "447e9102-a510-4bbd-fdda-85bb4b6223e0"
      },
      "execution_count": null,
      "outputs": [
        {
          "output_type": "stream",
          "name": "stdout",
          "text": [
            "5.0\n"
          ]
        }
      ]
    },
    {
      "cell_type": "markdown",
      "source": [
        "\n",
        "\n",
        "---\n",
        "\n"
      ],
      "metadata": {
        "id": "wM0NS-lBYiK9"
      }
    },
    {
      "cell_type": "markdown",
      "source": [
        "7) Defina uma função chamada velocidade_media() em um script chamado funções.py que receba dois parâmetros: a\n",
        "distância percorrida (em metros) e o tempo (em segundos). Forneça à função a fórmula para o cálculo da velocidade\n",
        "média e teste o seu código chamando a função para os valores abaixo:\n",
        "* Distância: 100, tempo: 20\n",
        "* Distância: 150, tempo 22\n",
        "* Distância: 200, tempo 30\n",
        "* Distância: 50, tempo 3"
      ],
      "metadata": {
        "id": "oxtj-eePR9vc"
      }
    },
    {
      "cell_type": "code",
      "source": [
        "def velocidade_media(d,t):\n",
        "  v = d / 2\n",
        "  return v\n",
        "\n",
        "print(f\"A velocidade média foi de {int(velocidade_media(100,20))} m/s.\")\n",
        "print(f\"A velocidade média foi de {int(velocidade_media(150,22))} m/s.\")\n",
        "print(f\"A velocidade média foi de {int(velocidade_media(200,30))} m/s.\")\n",
        "print(f\"A velocidade média foi de {int(velocidade_media(50,3))} m/s.\")"
      ],
      "metadata": {
        "colab": {
          "base_uri": "https://localhost:8080/",
          "height": 0
        },
        "id": "3jbGEZydSI8K",
        "outputId": "92e40bd0-13ad-44c9-89d5-f5798b0ae47a"
      },
      "execution_count": 27,
      "outputs": [
        {
          "output_type": "stream",
          "name": "stdout",
          "text": [
            "A velocidade média foi de 50 m/s.\n",
            "A velocidade média foi de 75 m/s.\n",
            "A velocidade média foi de 100 m/s.\n",
            "A velocidade média foi de 25 m/s.\n"
          ]
        }
      ]
    },
    {
      "cell_type": "markdown",
      "source": [
        "\n",
        "\n",
        "---\n",
        "\n"
      ],
      "metadata": {
        "id": "ixsSW1WeYj9p"
      }
    },
    {
      "cell_type": "markdown",
      "source": [
        "8) Dada a lista = [12, -2, 4, 8, 29, 45, 78, 36, -17, 2, 12, 8, 3, 3, -52] faça um programa que:\n",
        "1. Imprima o maior elemento;\n",
        "2. Imprima o menor elemento;\n",
        "3. Imprima os números pares;\n",
        "4. Imprima o número de ocorrências do primeiro elemento da lista;\n",
        "5. Imprima a média dos elementos;\n",
        "6. Imprima a soma dos elementos de valor negativo. "
      ],
      "metadata": {
        "id": "8Wh5qTjESJUo"
      }
    },
    {
      "cell_type": "code",
      "source": [
        "def soma(lista,sinal=\"a\"):\n",
        "  soma = 0\n",
        "  for i in range(0,len(lista)):\n",
        "    if sinal == \"a\":\n",
        "      soma = soma + lista[i]\n",
        "      i + 1\n",
        "    elif sinal == \"-\":\n",
        "      if lista[i] < 0:\n",
        "        soma = soma + lista[i]\n",
        "        i + 1\n",
        "  return soma\n",
        "\n",
        "def media():\n",
        "  media = soma(lista) / len(lista)\n",
        "  return media\n",
        "\n",
        "def e_par():\n",
        "  par = 0\n",
        "  for i in range(0,len(lista)):\n",
        "    if lista[i] % 2 == 0:\n",
        "      par = par + 1\n",
        "    i + 1\n",
        "  return par\n",
        "\n",
        "\n",
        "lista = [12, -2, 4, 8, 29, 45, 78, 36, -17, 2, 12, 8, 3, 3, -52]\n",
        "\n",
        "print(f\"1-) O maior elemento é: {max(lista)}\")\n",
        "print(f\"2-) O menor elemento é: {min(lista)}\")\n",
        "print(f\"3-) Há {e_par()} números pares na lista.\")\n",
        "print(f\"4-) O primeiro elemento da lista aparece {lista.count(lista[0])}\")\n",
        "print(f\"5-) A média dos elementos é {media()}\")\n",
        "print(\"6-) A soma dos elementos negativos é\",soma(lista,\"-\"))\n"
      ],
      "metadata": {
        "id": "EwTCac8LSYAs"
      },
      "execution_count": null,
      "outputs": []
    },
    {
      "cell_type": "markdown",
      "source": [
        "\n",
        "\n",
        "---\n",
        "\n"
      ],
      "metadata": {
        "id": "mmlGk_xZYmgg"
      }
    },
    {
      "cell_type": "markdown",
      "source": [
        "9) Desenvolver um programa, para solicitar uma senha (string) de um usuário e em seguida verificar se a\n",
        "confirmação da senha é igual a senha digitada anteriormente. Quando a confirmação for igual a primeira\n",
        "senha digitada, diga que a senha está OK, caso contrário faça com que o usuário informe a senha e a\n",
        "confirmação da senha novamente. O número máximo de tentativas deve ser igual a 3."
      ],
      "metadata": {
        "id": "fdmQgUQvSbiV"
      }
    },
    {
      "cell_type": "code",
      "source": [
        "i = 1\n",
        "senha = input(\"Digite uma senha: \")\n",
        "c_senha = input(\"Confirme sua senha: \")\n",
        "\n",
        "while c_senha != senha:\n",
        "  i = i + 1\n",
        "  if i > 3:\n",
        "    print(f\"Muitas tentativas incorretas, cancelando operação.\")\n",
        "    break\n",
        "  else:\n",
        "    print(\"Senha não confere. Tente novamente.\")\n",
        "    input(\"Confirme sua senha: \")"
      ],
      "metadata": {
        "colab": {
          "base_uri": "https://localhost:8080/",
          "height": 0
        },
        "id": "eZcPTnj-Sbul",
        "outputId": "6f123d69-e82a-481b-f90f-9df93f1d2916"
      },
      "execution_count": 34,
      "outputs": [
        {
          "output_type": "stream",
          "name": "stdout",
          "text": [
            "Digite uma senha: 12\n",
            "Confirme sua senha: 1\n",
            "Senha não confere. Tente novamente.\n",
            "Confirme sua senha: 2\n",
            "Senha não confere. Tente novamente.\n",
            "Confirme sua senha: 3\n",
            "Muitas tentativas incorretas, cancelando operação.\n"
          ]
        }
      ]
    },
    {
      "cell_type": "markdown",
      "source": [
        "\n",
        "\n",
        "---\n",
        "\n"
      ],
      "metadata": {
        "id": "y8nRHFexYplU"
      }
    },
    {
      "cell_type": "markdown",
      "source": [
        "10) Crie um programa em Python chamado “Gerador de Desculpas”. Ele deverá ler três arquivos, sendo:\n",
        "desculpa.txt, sujeito.txt e o acao.txt. Com base em um sorteio randômico selecione uma linha de cada\n",
        "arquivo. No final, gere um arquivo chamado: desculpadoida.txt contendo a desculpa completa. \n",
        "![image.png](data:image/png;base64,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)"
      ],
      "metadata": {
        "id": "FyPsovKxCN-_"
      }
    },
    {
      "cell_type": "code",
      "source": [
        "import random as rm\n",
        "\n",
        "# Abrindo os arquivos\n",
        "desculpa = open(\"desculpa.txt\",\"r\", encoding=\"utf-8\")\n",
        "sujeito = open(\"sujeito.txt\",\"r\", encoding=\"utf-8\")\n",
        "acao = open(\"acao.txt\",\"r\",encoding=\"utf-8\")\n",
        "\n",
        "# Criando as listas para armazenar as frases\n",
        "lista_desculpa = []\n",
        "lista_sujeito = []\n",
        "lista_acao = []\n",
        "\n",
        "# Armazenando as frases lidas\n",
        "for linha in desculpa:\n",
        "    lista_desculpa.append(linha)\n",
        "\n",
        "for linha in sujeito:\n",
        "    lista_sujeito.append(linha)\n",
        "\n",
        "for linha in acao:\n",
        "    lista_acao.append(linha)\n",
        "\n",
        "# Gerando a desculpa perfeita\n",
        "\n",
        "parte1 = lista_desculpa[rm.randrange(0,len(lista_desculpa)-1)]\n",
        "parte2 = lista_sujeito[rm.randrange(0,len(lista_sujeito)-1)]\n",
        "parte3 = lista_acao[rm.randrange(0,len(lista_acao)-1)]\n",
        "\n",
        "desculpa_perfeita = \"{}{}{}\".format(parte1.replace(\"\\n\",\" \"),parte2.replace(\"\\n\",\" \"),parte3.replace(\"\\n\",\" \"))\n",
        "print(\"Escrevemos a seguinte desculpa hoje: \",desculpa_perfeita)\n",
        "\n",
        "# Escrevendo a desculpa no arquivo txt\n",
        "desculpa_do_dia = open(\"Desculpa do Dia.txt\",\"w\", encoding=\"utf-8\")\n",
        "desculpa_do_dia.write(desculpa_perfeita)"
      ],
      "metadata": {
        "id": "b71h3fhd51Hm",
        "colab": {
          "base_uri": "https://localhost:8080/",
          "height": 0
        },
        "outputId": "2a1fdd00-ccd9-41d0-c679-eeeec90b0680"
      },
      "execution_count": 42,
      "outputs": [
        {
          "output_type": "stream",
          "name": "stdout",
          "text": [
            "Escrevemos a seguinte desculpa hoje:  Quando comecei as estudar, a minha irmã tentou me matar. \n"
          ]
        },
        {
          "output_type": "execute_result",
          "data": {
            "text/plain": [
              "57"
            ]
          },
          "metadata": {},
          "execution_count": 42
        }
      ]
    }
  ]
}