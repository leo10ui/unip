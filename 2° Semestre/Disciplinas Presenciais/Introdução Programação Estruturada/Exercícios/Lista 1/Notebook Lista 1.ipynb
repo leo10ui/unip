{
  "nbformat": 4,
  "nbformat_minor": 0,
  "metadata": {
    "colab": {
      "name": "Lista 1 - Programação Estruturada.ipynb",
      "provenance": [],
      "collapsed_sections": []
    },
    "kernelspec": {
      "name": "python3",
      "display_name": "Python 3"
    },
    "language_info": {
      "name": "python"
    }
  },
  "cells": [
    {
      "cell_type": "markdown",
      "source": [
        "**Nome:** Leonardo de Souza Rodrigues\n",
        "**RA:** F344HB2\n",
        "**Turma:** CC2P44"
      ],
      "metadata": {
        "id": "rhWqH2VSOe5p"
      }
    },
    {
      "cell_type": "markdown",
      "source": [
        "## Lista de Exercícíos 1 - Introdução à Programação Estruturada\n",
        "\n",
        "\n",
        "---\n",
        "\n"
      ],
      "metadata": {
        "id": "3tBxsiN3JXsL"
      }
    },
    {
      "cell_type": "markdown",
      "source": [
        "1) Construa um programa Python que defina variáveis para armazenar seu nome, sua idade e a cidade onde mora. Os valores das variáveis podem ser diretamente indicados (não é necessário realizada a entrada destes dados)Imprima no console o conteúdo destas variáveis."
      ],
      "metadata": {
        "id": "fH_2nEI8Jyqk"
      }
    },
    {
      "cell_type": "code",
      "source": [
        "nome = str(\"Leonardo\")\n",
        "idade = int(20)\n",
        "cidade = str(\"Louveira\")\n",
        "print(\"Seu nome é\",nome,\"você tem\",idade,\"anos de idade, e mora em\",cidade,\".\")"
      ],
      "metadata": {
        "colab": {
          "base_uri": "https://localhost:8080/"
        },
        "id": "wsUAv3iDJpzb",
        "outputId": "962b91e8-e855-4f47-aef0-429d47d3cc47"
      },
      "execution_count": 3,
      "outputs": [
        {
          "output_type": "stream",
          "name": "stdout",
          "text": [
            "Seu nome é Leonardo você tem 20 anos de idade, e mora em Louveira .\n"
          ]
        }
      ]
    },
    {
      "cell_type": "markdown",
      "source": [
        "\n",
        "\n",
        "---\n",
        "\n"
      ],
      "metadata": {
        "id": "0hpLVYaOLgwN"
      }
    },
    {
      "cell_type": "markdown",
      "source": [
        "2) Modifique o programa (1) para que sejam lidos seu nome, sua idade e a cidade onde mora. Imprima no console o conteúdo destas variáveis."
      ],
      "metadata": {
        "id": "UCNBqeEpLTMh"
      }
    },
    {
      "cell_type": "code",
      "source": [
        "nome = str(input(\"Digite seu nome: \"))\n",
        "idade = int(input(\"Digite sua idade: \"))\n",
        "cidade = str(input(\"Digite a cidade que você mora: \"))\n",
        "print(\"Seu nome é\",nome,\"você tem\",idade,\"anos de idade, e mora em\",cidade,\".\")"
      ],
      "metadata": {
        "colab": {
          "base_uri": "https://localhost:8080/"
        },
        "id": "V_XkO9mZLd24",
        "outputId": "1e37b3f2-de48-4d48-ddf5-f24daa4a6b1e"
      },
      "execution_count": 4,
      "outputs": [
        {
          "output_type": "stream",
          "name": "stdout",
          "text": [
            "Digite seu nome: Leonardo\n",
            "Digite sua idade: 20\n",
            "Digite a cidade que você mora: Louveira\n",
            "Seu nome é Leonardo você tem 20 anos de idade, e mora em Louveira .\n"
          ]
        }
      ]
    },
    {
      "cell_type": "markdown",
      "source": [
        "\n",
        "\n",
        "---\n",
        "\n"
      ],
      "metadata": {
        "id": "NVwW7_2zLola"
      }
    },
    {
      "cell_type": "markdown",
      "source": [
        "3) Construa um programa Python receba (leia) dois números inteiros x e y, apresentando sua soma x+y, subtração x-y, multiplicação x*y, divisão x/y, divisão inteira x//y e exponenciação x**y. Ou seja, imprimindo os valores lidos e os resultados destas operações no console."
      ],
      "metadata": {
        "id": "pOdSzsKxLrEn"
      }
    },
    {
      "cell_type": "code",
      "source": [
        "x = int(input(\"Digite o valor de x: \"))\n",
        "y = int(input(\"Digite o valor de y: \"))\n",
        "\n",
        "soma = x + y\n",
        "subtracao = x - y\n",
        "multiplicacao = x * y\n",
        "divisao = x / y\n",
        "div_inteira = x // y\n",
        "potencia = x ** y\n",
        "\n",
        "print(\"Os resultados das operações foram: \\n Soma:\",soma,\"\\n Multiplicação:\",multiplicacao,\n",
        "      \"\\n Divisão:\",divisao,\"\\n Divisão Inteira:\",div_inteira,\"\\n Exponenciação:\",potencia)"
      ],
      "metadata": {
        "colab": {
          "base_uri": "https://localhost:8080/"
        },
        "id": "bkvJEyeiLw6A",
        "outputId": "5cf3014d-9d28-440b-b257-58fe9e1e95ff"
      },
      "execution_count": null,
      "outputs": [
        {
          "output_type": "stream",
          "name": "stdout",
          "text": [
            "Digite o valor de x: 3\n",
            "Digite o valor de y: 2\n",
            "Os resultados das operações foram: \n",
            " Soma: 5 \n",
            " Multiplicação: 6 \n",
            " Divisão: 1.5 \n",
            " Divisão Inteira: 1 \n",
            " Exponenciação: 9\n"
          ]
        }
      ]
    },
    {
      "cell_type": "markdown",
      "source": [
        "\n",
        "\n",
        "---\n",
        "\n"
      ],
      "metadata": {
        "id": "mKR10gVeLxds"
      }
    },
    {
      "cell_type": "markdown",
      "source": [
        "4) Escreva um programa que leia um valor numérico real que representa uma temperatura na escala Celsius. O programa deve converter tal valor em seu equivalente na escala Fahrenheit. O resultado deve ser impresso no console. fahrenheit = (celsius * 9)/5 + 32"
      ],
      "metadata": {
        "id": "RCAycjhBL0Zh"
      }
    },
    {
      "cell_type": "code",
      "source": [
        "graus_celsius = float(input(\"Digite a temperatura em graus Celsius: \"))\n",
        "graus_fahrenheit = float((graus_celsius)*9/5+32)\n",
        "print(f\"A temperatura em graus Fahrenheit é de {graus_fahrenheit}°F\")"
      ],
      "metadata": {
        "colab": {
          "base_uri": "https://localhost:8080/"
        },
        "id": "XfxGNgZrL5np",
        "outputId": "4d3f7f73-4b4a-4f5a-8cf4-ffb6e2d9839c"
      },
      "execution_count": null,
      "outputs": [
        {
          "output_type": "stream",
          "name": "stdout",
          "text": [
            "Digite a temperatura em graus Celsius: 30\n",
            "A temperatura em graus Fahrenheit é de 86.0°F\n"
          ]
        }
      ]
    },
    {
      "cell_type": "markdown",
      "source": [
        "\n",
        "\n",
        "---\n",
        "\n"
      ],
      "metadata": {
        "id": "7w8efjURL5zh"
      }
    },
    {
      "cell_type": "markdown",
      "source": [
        "5) Escreva um programa que leia um valor numérico real que representa uma distância em milhas. O programa deve converter tal valor em seu equivalente em quilômetros, sabendo que 1 mi = 1,60934 km. O resultado deve ser impresso no console."
      ],
      "metadata": {
        "id": "PecW95SoMEYJ"
      }
    },
    {
      "cell_type": "code",
      "source": [
        "dist_milhas = float(input(\"Digite a distância em milhas: \"))\n",
        "dist_km = dist_milhas * 1.60934\n",
        "print(f\"A distância em quilômetros é de: {dist_km}\")"
      ],
      "metadata": {
        "colab": {
          "base_uri": "https://localhost:8080/"
        },
        "id": "JoTINtzdMJoo",
        "outputId": "61e397e6-53ee-4205-c682-5a27fe8cbae6"
      },
      "execution_count": null,
      "outputs": [
        {
          "output_type": "stream",
          "name": "stdout",
          "text": [
            "Digite a distância em milhas: 600\n",
            "A distância em quilômetros é de: 965.604\n"
          ]
        }
      ]
    },
    {
      "cell_type": "markdown",
      "source": [
        "\n",
        "\n",
        "---\n",
        "\n"
      ],
      "metadata": {
        "id": "lOjKvydqMJ1Z"
      }
    },
    {
      "cell_type": "markdown",
      "source": [
        "6) Construa um programa que receba (leia) três números reais, considerando que estes três valores são os coeficientes a, b e c de uma equação de 2o grau. Calcule o delta (= b2 - 4*a*c) e exiba seu valor no console."
      ],
      "metadata": {
        "id": "qjPDdrtfMPL0"
      }
    },
    {
      "cell_type": "code",
      "source": [
        "a = float(input(\"Digite o valor de a: \"))\n",
        "b = float(input(\"Digite o valor de b: \"))\n",
        "c = float(input(\"Digite o valor de c: \"))\n",
        "delta = (b*2)-4*a*c\n",
        "print(f\"O valor de delta é {delta}.\")"
      ],
      "metadata": {
        "colab": {
          "base_uri": "https://localhost:8080/"
        },
        "id": "vwqHAZ9_MVFG",
        "outputId": "8fb64a76-615a-45a8-bb83-47665e978078"
      },
      "execution_count": null,
      "outputs": [
        {
          "output_type": "stream",
          "name": "stdout",
          "text": [
            "Digite o valor de a: 1\n",
            "Digite o valor de b: 2\n",
            "Digite o valor de c: 3\n",
            "O valor de delta é -8.0.\n"
          ]
        }
      ]
    },
    {
      "cell_type": "markdown",
      "source": [
        "\n",
        "\n",
        "---\n",
        "\n"
      ],
      "metadata": {
        "id": "-yhoH7aYMVOq"
      }
    },
    {
      "cell_type": "markdown",
      "source": [
        "7) Escreva um programa que leia o preço do litro do etanol e, também, o preço do litro da gasolina comum. Exiba, no console, quanto seria gasto para encher um tanque de 50 litros com cada combustível; qual o valor relativo do etanol em relação à gasolina (precoEtanol / precoGasolina); e quantos litros de etanol podem ser comprados com o preço de um litro de gasolina comum."
      ],
      "metadata": {
        "id": "XqrWbtqRMV-t"
      }
    },
    {
      "cell_type": "code",
      "source": [
        "preco_gas = float(input(\"Digite o Preço da Gasolina Comum: \"))\n",
        "preco_etanol = float(input(\"Digite o Preço do Etanol: \"))\n",
        "\n",
        "gasto_tanque_gas = preco_gas * 50\n",
        "gasto_tanque_etanol = preco_etanol * 50\n",
        "\n",
        "valor_relativo = preco_etanol / preco_gas\n",
        "\n",
        "comparativo = preco_gas / preco_etanol\n",
        "\n",
        "print(f\"Para abastecer um tanque de 50 litros com gasolina seria necessário gastar R${gasto_tanque_gas}, já utilizando etanol seria gasto R${gasto_tanque_etanol}\")\n",
        "print(f\"O valor relativo entre os dois combustíveis é de R${valor_relativo}\")\n",
        "print(f\"{comparativo} Litros de etanol podem ser comprados com o preço de 1 litro de gasolina comum.\")"
      ],
      "metadata": {
        "colab": {
          "base_uri": "https://localhost:8080/"
        },
        "id": "TRiBDRABMj2_",
        "outputId": "1b491d4f-b943-46f9-9838-6dc4d6986f7d"
      },
      "execution_count": null,
      "outputs": [
        {
          "output_type": "stream",
          "name": "stdout",
          "text": [
            "Digite o Preço da Gasolina Comum: 5\n",
            "Digite o Preço do Etanol: 3\n",
            "Para abastecer um tanque de 50 litros com gasolina seria necessário gastar R$250.0, já utilizando etanol seria gasto R$150.0\n",
            "O valor relativo entre os dois combustíveis é de R$0.0\n",
            "1.6666666666666667 Litros de etanol podem ser comprados com o preço de 1 litro de gasolina comum.\n"
          ]
        }
      ]
    },
    {
      "cell_type": "markdown",
      "source": [
        "\n",
        "\n",
        "---\n",
        "\n"
      ],
      "metadata": {
        "id": "RObXLwHEMwzd"
      }
    },
    {
      "cell_type": "markdown",
      "source": [
        "8) Pretendemos revestir um salão retangular com um piso cerâmico, cujas peças têm o mesmo tamanho e que podem ser assentadas lado a lado (sem espaço entre as peças). Desejamos saber quantas peças de piso deverão ser compradas. Escreva um programa que leia as dimensões comprimento e largura do salão retangular (valores reais expressos em metros); e o comprimento e largura da cerâmica a ser empregada (valores inteiros em milimetros), informando o número de peças requeridas para cobrir o comprimento do salão, o número de peças requeridas para cobrir a largura do salão; e o número total de peças necessárias."
      ],
      "metadata": {
        "id": "QWHnVAzLMyZp"
      }
    },
    {
      "cell_type": "code",
      "source": [
        "larg_salao = int(input(\"Digite a largura do salão em metros: \"))\n",
        "comp_salao = float(input(\"Digite o comprimento do salão em metros: \"))\n",
        "\n",
        "larg_piso = float(input(\"Digite a largura do piso em milímetros: \"))\n",
        "comp_piso = float(input(\"Digite o comprimento do piso em milímetros: \"))\n",
        "\n",
        "total_larg = int((1000 * larg_salao) // larg_piso) + 1\n",
        "total_comp = int((1000 * comp_salao) // comp_piso) + 1\n",
        "\n",
        "total_pisos = total_larg * total_comp\n",
        "\n",
        "print(f\"Peças para cobrir a Largura do salão:{total_larg} peças \\n Peças para cobrir o comprimento do salão:{total_comp} peças\")\n",
        "print(f\"Total de peças para cobrir o salão:{total_pisos} peças\")"
      ],
      "metadata": {
        "id": "7StkDDFpM7Qp",
        "colab": {
          "base_uri": "https://localhost:8080/"
        },
        "outputId": "acc92768-4237-450d-abfc-bec351c60a4d"
      },
      "execution_count": 2,
      "outputs": [
        {
          "output_type": "stream",
          "name": "stdout",
          "text": [
            "Digite a largura do salão em metros: 5\n",
            "Digite o comprimento do salão em metros: 5\n",
            "Digite a largura do piso em milímetros: 1000\n",
            "Digite o comprimento do piso em milímetros: 1000\n",
            "Peças para cobrir a Largura do salão:6 peças \n",
            " Peças para cobrir o comprimento do salão:6 peças\n",
            "Total de peças para cobrir o salão:36 peças\n"
          ]
        }
      ]
    },
    {
      "cell_type": "markdown",
      "source": [
        "\n",
        "\n",
        "---\n",
        "\n"
      ],
      "metadata": {
        "id": "BrafK3tGM7xj"
      }
    }
  ]
}